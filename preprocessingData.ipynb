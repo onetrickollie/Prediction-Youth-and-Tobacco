{
 "cells": [
  {
   "cell_type": "code",
   "execution_count": 2,
   "metadata": {},
   "outputs": [
    {
     "name": "stderr",
     "output_type": "stream",
     "text": [
      "C:\\Users\\bryan\\AppData\\Local\\Temp\\ipykernel_20984\\2267206572.py:23: DtypeWarning: Columns (690,691,692,703,706,708,709,710,711,712,713,714,715,716,717,718,719,720,721,1172,1174,1185,1214) have mixed types. Specify dtype option on import or set low_memory=False.\n",
      "  df = pd.read_csv(file_path)\n"
     ]
    },
    {
     "data": {
      "text/html": [
       "<div>\n",
       "<style scoped>\n",
       "    .dataframe tbody tr th:only-of-type {\n",
       "        vertical-align: middle;\n",
       "    }\n",
       "\n",
       "    .dataframe tbody tr th {\n",
       "        vertical-align: top;\n",
       "    }\n",
       "\n",
       "    .dataframe thead th {\n",
       "        text-align: right;\n",
       "    }\n",
       "</style>\n",
       "<table border=\"1\" class=\"dataframe\">\n",
       "  <thead>\n",
       "    <tr style=\"text-align: right;\">\n",
       "      <th></th>\n",
       "      <th>artificial_id</th>\n",
       "      <th>Non_SOGI_School</th>\n",
       "      <th>Location</th>\n",
       "      <th>QN1</th>\n",
       "      <th>QN2</th>\n",
       "      <th>QN3</th>\n",
       "      <th>QN4a</th>\n",
       "      <th>QN4b</th>\n",
       "      <th>QN4c</th>\n",
       "      <th>QN4d</th>\n",
       "      <th>...</th>\n",
       "      <th>CBIDIS</th>\n",
       "      <th>CHTP</th>\n",
       "      <th>CPOUCH</th>\n",
       "      <th>Stratum</th>\n",
       "      <th>Stratum_num</th>\n",
       "      <th>PSU</th>\n",
       "      <th>PSU_num</th>\n",
       "      <th>WT_analysis</th>\n",
       "      <th>QN141R</th>\n",
       "      <th>QN142R</th>\n",
       "    </tr>\n",
       "  </thead>\n",
       "  <tbody>\n",
       "    <tr>\n",
       "      <th>0</th>\n",
       "      <td>B2100007</td>\n",
       "      <td>2</td>\n",
       "      <td>1.0</td>\n",
       "      <td>5.0</td>\n",
       "      <td>2.0</td>\n",
       "      <td>2.0</td>\n",
       "      <td>1.0</td>\n",
       "      <td>NaN</td>\n",
       "      <td>NaN</td>\n",
       "      <td>NaN</td>\n",
       "      <td>...</td>\n",
       "      <td>1.0</td>\n",
       "      <td>2.0</td>\n",
       "      <td>2.0</td>\n",
       "      <td>S05</td>\n",
       "      <td>5</td>\n",
       "      <td>P21</td>\n",
       "      <td>21</td>\n",
       "      <td>4232.149929</td>\n",
       "      <td>NaN</td>\n",
       "      <td>NaN</td>\n",
       "    </tr>\n",
       "    <tr>\n",
       "      <th>1</th>\n",
       "      <td>B2100018</td>\n",
       "      <td>2</td>\n",
       "      <td>2.0</td>\n",
       "      <td>8.0</td>\n",
       "      <td>2.0</td>\n",
       "      <td>1.0</td>\n",
       "      <td>NaN</td>\n",
       "      <td>NaN</td>\n",
       "      <td>NaN</td>\n",
       "      <td>NaN</td>\n",
       "      <td>...</td>\n",
       "      <td>NaN</td>\n",
       "      <td>NaN</td>\n",
       "      <td>NaN</td>\n",
       "      <td>S02</td>\n",
       "      <td>2</td>\n",
       "      <td>P09</td>\n",
       "      <td>9</td>\n",
       "      <td>514.656322</td>\n",
       "      <td>NaN</td>\n",
       "      <td>NaN</td>\n",
       "    </tr>\n",
       "    <tr>\n",
       "      <th>2</th>\n",
       "      <td>B2100021</td>\n",
       "      <td>2</td>\n",
       "      <td>1.0</td>\n",
       "      <td>5.0</td>\n",
       "      <td>1.0</td>\n",
       "      <td>2.0</td>\n",
       "      <td>NaN</td>\n",
       "      <td>1.0</td>\n",
       "      <td>NaN</td>\n",
       "      <td>NaN</td>\n",
       "      <td>...</td>\n",
       "      <td>NaN</td>\n",
       "      <td>NaN</td>\n",
       "      <td>NaN</td>\n",
       "      <td>S08</td>\n",
       "      <td>8</td>\n",
       "      <td>P32</td>\n",
       "      <td>32</td>\n",
       "      <td>244.855983</td>\n",
       "      <td>NaN</td>\n",
       "      <td>NaN</td>\n",
       "    </tr>\n",
       "    <tr>\n",
       "      <th>3</th>\n",
       "      <td>B2100035</td>\n",
       "      <td>2</td>\n",
       "      <td>1.0</td>\n",
       "      <td>4.0</td>\n",
       "      <td>2.0</td>\n",
       "      <td>2.0</td>\n",
       "      <td>1.0</td>\n",
       "      <td>NaN</td>\n",
       "      <td>NaN</td>\n",
       "      <td>NaN</td>\n",
       "      <td>...</td>\n",
       "      <td>NaN</td>\n",
       "      <td>NaN</td>\n",
       "      <td>2.0</td>\n",
       "      <td>S08</td>\n",
       "      <td>8</td>\n",
       "      <td>P34</td>\n",
       "      <td>34</td>\n",
       "      <td>775.983192</td>\n",
       "      <td>NaN</td>\n",
       "      <td>NaN</td>\n",
       "    </tr>\n",
       "    <tr>\n",
       "      <th>4</th>\n",
       "      <td>B2100036</td>\n",
       "      <td>2</td>\n",
       "      <td>1.0</td>\n",
       "      <td>4.0</td>\n",
       "      <td>2.0</td>\n",
       "      <td>1.0</td>\n",
       "      <td>1.0</td>\n",
       "      <td>NaN</td>\n",
       "      <td>NaN</td>\n",
       "      <td>NaN</td>\n",
       "      <td>...</td>\n",
       "      <td>2.0</td>\n",
       "      <td>2.0</td>\n",
       "      <td>2.0</td>\n",
       "      <td>S04</td>\n",
       "      <td>4</td>\n",
       "      <td>P16</td>\n",
       "      <td>16</td>\n",
       "      <td>353.735565</td>\n",
       "      <td>1.0</td>\n",
       "      <td>1.0</td>\n",
       "    </tr>\n",
       "  </tbody>\n",
       "</table>\n",
       "<p>5 rows × 1469 columns</p>\n",
       "</div>"
      ],
      "text/plain": [
       "  artificial_id  Non_SOGI_School  Location  QN1  QN2  QN3  QN4a  QN4b  QN4c  \\\n",
       "0      B2100007                2       1.0  5.0  2.0  2.0   1.0   NaN   NaN   \n",
       "1      B2100018                2       2.0  8.0  2.0  1.0   NaN   NaN   NaN   \n",
       "2      B2100021                2       1.0  5.0  1.0  2.0   NaN   1.0   NaN   \n",
       "3      B2100035                2       1.0  4.0  2.0  2.0   1.0   NaN   NaN   \n",
       "4      B2100036                2       1.0  4.0  2.0  1.0   1.0   NaN   NaN   \n",
       "\n",
       "   QN4d  ...  CBIDIS  CHTP  CPOUCH  Stratum  Stratum_num  PSU  PSU_num  \\\n",
       "0   NaN  ...     1.0   2.0     2.0      S05            5  P21       21   \n",
       "1   NaN  ...     NaN   NaN     NaN      S02            2  P09        9   \n",
       "2   NaN  ...     NaN   NaN     NaN      S08            8  P32       32   \n",
       "3   NaN  ...     NaN   NaN     2.0      S08            8  P34       34   \n",
       "4   NaN  ...     2.0   2.0     2.0      S04            4  P16       16   \n",
       "\n",
       "   WT_analysis  QN141R  QN142R  \n",
       "0  4232.149929     NaN     NaN  \n",
       "1   514.656322     NaN     NaN  \n",
       "2   244.855983     NaN     NaN  \n",
       "3   775.983192     NaN     NaN  \n",
       "4   353.735565     1.0     1.0  \n",
       "\n",
       "[5 rows x 1469 columns]"
      ]
     },
     "execution_count": 2,
     "metadata": {},
     "output_type": "execute_result"
    }
   ],
   "source": [
    "#imports given by Dr.K\n",
    "import sys\n",
    "assert sys.version_info >= (3, 5)\n",
    "\n",
    "# Scikit-Learn ≥0.20 is required\n",
    "import sklearn\n",
    "assert sklearn.__version__ >= \"0.20\"\n",
    "\n",
    "# Common imports\n",
    "import numpy as np\n",
    "import os\n",
    "\n",
    "# To plot pretty figures\n",
    "%matplotlib inline\n",
    "import matplotlib as mpl\n",
    "import matplotlib.pyplot as plt\n",
    "\n",
    "#custom imports\n",
    "import seaborn as sns\n",
    "import pandas as pd\n",
    "\n",
    "file_path = '/Users/bryan/OneDrive/Desktop/nyts2023.csv'\n",
    "df = pd.read_csv(file_path)\n",
    "\n",
    "df.head()"
   ]
  },
  {
   "cell_type": "markdown",
   "metadata": {},
   "source": [
    "Display the column titles"
   ]
  },
  {
   "cell_type": "code",
   "execution_count": 3,
   "metadata": {},
   "outputs": [
    {
     "name": "stdout",
     "output_type": "stream",
     "text": [
      "Index(['artificial_id', 'Non_SOGI_School', 'Location', 'QN1', 'QN2', 'QN3',\n",
      "       'QN4a', 'QN4b', 'QN4c', 'QN4d',\n",
      "       ...\n",
      "       'CBIDIS', 'CHTP', 'CPOUCH', 'Stratum', 'Stratum_num', 'PSU', 'PSU_num',\n",
      "       'WT_analysis', 'QN141R', 'QN142R'],\n",
      "      dtype='object', length=1469)\n"
     ]
    }
   ],
   "source": [
    "print(df.columns)"
   ]
  },
  {
   "cell_type": "markdown",
   "metadata": {},
   "source": [
    "Check to see how many missing values are in each column"
   ]
  },
  {
   "cell_type": "code",
   "execution_count": 4,
   "metadata": {},
   "outputs": [
    {
     "data": {
      "text/plain": [
       "artificial_id         0\n",
       "Non_SOGI_School       0\n",
       "Location             69\n",
       "QN1                  90\n",
       "QN2                 152\n",
       "                   ... \n",
       "PSU                   0\n",
       "PSU_num               0\n",
       "WT_analysis           0\n",
       "QN141R             4200\n",
       "QN142R             3991\n",
       "Length: 1469, dtype: int64"
      ]
     },
     "execution_count": 4,
     "metadata": {},
     "output_type": "execute_result"
    }
   ],
   "source": [
    "df.isnull().sum()"
   ]
  },
  {
   "cell_type": "markdown",
   "metadata": {},
   "source": [
    "Since the Location column has 69 missing values\n",
    "it is only .3% of the total data so filling them in with the most frequent option chosen \n",
    "will not have a big impact on the data\n",
    "\n",
    "Use the most frequent option chosen(MODE)"
   ]
  },
  {
   "cell_type": "code",
   "execution_count": 5,
   "metadata": {},
   "outputs": [
    {
     "name": "stdout",
     "output_type": "stream",
     "text": [
      "Number of missing values in the 'Location' column: 0\n"
     ]
    }
   ],
   "source": [
    "# Step 1: Find the mode (most frequent value) for the 'Location' column\n",
    "most_frequent_value = df['Location'].mode()[0]\n",
    "\n",
    "# Step 2: Replace missing values (NaNs) with the mode\n",
    "df['Location'] = df['Location'].fillna(most_frequent_value)\n",
    "\n",
    "# Check how many missing values are in the 'Location' column\n",
    "missing_values_in_location = df['Location'].isnull().sum()\n",
    "\n",
    "print(f\"Number of missing values in the 'Location' column: {missing_values_in_location}\")\n",
    "\n"
   ]
  },
  {
   "cell_type": "markdown",
   "metadata": {},
   "source": [
    "Now handling the missing values in the Q1 column with MODE as well. "
   ]
  },
  {
   "cell_type": "code",
   "execution_count": 7,
   "metadata": {},
   "outputs": [
    {
     "name": "stdout",
     "output_type": "stream",
     "text": [
      "Number of missing values in Q1 after filling: 0\n"
     ]
    }
   ],
   "source": [
    "# Step 1: Find the most frequent value (mode) in the Q1 column\n",
    "most_frequent_value = df['Q1'].mode()[0]\n",
    "\n",
    "# Step 2: Fill missing values in Q1 with the mode\n",
    "df['Q1'] = df['Q1'].fillna(most_frequent_value)\n",
    "\n",
    "# Check the result: Ensure that there are no more missing values in Q1\n",
    "print(f\"Number of missing values in Q1 after filling: {df['Q1'].isnull().sum()}\")\n"
   ]
  }
 ],
 "metadata": {
  "kernelspec": {
   "display_name": "Python 3",
   "language": "python",
   "name": "python3"
  },
  "language_info": {
   "codemirror_mode": {
    "name": "ipython",
    "version": 3
   },
   "file_extension": ".py",
   "mimetype": "text/x-python",
   "name": "python",
   "nbconvert_exporter": "python",
   "pygments_lexer": "ipython3",
   "version": "3.11.5"
  }
 },
 "nbformat": 4,
 "nbformat_minor": 2
}
